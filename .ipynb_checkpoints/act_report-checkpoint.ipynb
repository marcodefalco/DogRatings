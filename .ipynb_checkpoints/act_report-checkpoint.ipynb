{
 "cells": [
  {
   "cell_type": "markdown",
   "metadata": {},
   "source": [
    "# Act_Report"
   ]
  },
  {
   "cell_type": "code",
   "execution_count": 1,
   "metadata": {},
   "outputs": [],
   "source": [
    "import pandas as pd\n",
    "import numpy as np\n",
    "import matplotlib.pyplot as plt\n",
    "%matplotlib inline "
   ]
  },
  {
   "cell_type": "code",
   "execution_count": 2,
   "metadata": {},
   "outputs": [],
   "source": [
    "tt_final = pd.read_csv('twitter_archive_master.csv')"
   ]
  },
  {
   "cell_type": "markdown",
   "metadata": {},
   "source": [
    "# Analysis"
   ]
  },
  {
   "cell_type": "markdown",
   "metadata": {},
   "source": [
    "\n",
    "### Insights:\n",
    "- Bottom 10 ratings including outliers\n",
    "- Top 10 most frequently predicted breeds\n",
    "- Top 10 most liked breeds on average\n",
    "\n",
    "### Visualization:\n",
    "- Looking for a correlation between Favorite count and retweet count"
   ]
  },
  {
   "cell_type": "code",
   "execution_count": 3,
   "metadata": {},
   "outputs": [
    {
     "data": {
      "text/html": [
       "<div>\n",
       "<style scoped>\n",
       "    .dataframe tbody tr th:only-of-type {\n",
       "        vertical-align: middle;\n",
       "    }\n",
       "\n",
       "    .dataframe tbody tr th {\n",
       "        vertical-align: top;\n",
       "    }\n",
       "\n",
       "    .dataframe thead th {\n",
       "        text-align: right;\n",
       "    }\n",
       "</style>\n",
       "<table border=\"1\" class=\"dataframe\">\n",
       "  <thead>\n",
       "    <tr style=\"text-align: right;\">\n",
       "      <th></th>\n",
       "      <th>tweet_id</th>\n",
       "      <th>rating_numerator</th>\n",
       "      <th>rating_denominator</th>\n",
       "      <th>doggo</th>\n",
       "      <th>floofer</th>\n",
       "      <th>pupper</th>\n",
       "      <th>puppo</th>\n",
       "      <th>dog_stage</th>\n",
       "      <th>favorite_count</th>\n",
       "      <th>retweet_count</th>\n",
       "      <th>img_num</th>\n",
       "      <th>p1_conf</th>\n",
       "      <th>p2_conf</th>\n",
       "      <th>p3_conf</th>\n",
       "    </tr>\n",
       "  </thead>\n",
       "  <tbody>\n",
       "    <tr>\n",
       "      <th>count</th>\n",
       "      <td>1.615000e+03</td>\n",
       "      <td>1615.000000</td>\n",
       "      <td>1615.0</td>\n",
       "      <td>1615.000000</td>\n",
       "      <td>1615.000000</td>\n",
       "      <td>1615.000000</td>\n",
       "      <td>1615.000000</td>\n",
       "      <td>1615.000000</td>\n",
       "      <td>1615.000000</td>\n",
       "      <td>1615.000000</td>\n",
       "      <td>1615.000000</td>\n",
       "      <td>1615.000000</td>\n",
       "      <td>1615.000000</td>\n",
       "      <td>1.615000e+03</td>\n",
       "    </tr>\n",
       "    <tr>\n",
       "      <th>mean</th>\n",
       "      <td>7.385300e+17</td>\n",
       "      <td>10.796904</td>\n",
       "      <td>10.0</td>\n",
       "      <td>0.105882</td>\n",
       "      <td>0.017337</td>\n",
       "      <td>0.206811</td>\n",
       "      <td>0.013622</td>\n",
       "      <td>0.332508</td>\n",
       "      <td>8772.652632</td>\n",
       "      <td>2531.517028</td>\n",
       "      <td>1.222910</td>\n",
       "      <td>0.610078</td>\n",
       "      <td>0.136582</td>\n",
       "      <td>6.054469e-02</td>\n",
       "    </tr>\n",
       "    <tr>\n",
       "      <th>std</th>\n",
       "      <td>6.796355e+16</td>\n",
       "      <td>1.775746</td>\n",
       "      <td>0.0</td>\n",
       "      <td>0.553738</td>\n",
       "      <td>0.262854</td>\n",
       "      <td>0.609164</td>\n",
       "      <td>0.115953</td>\n",
       "      <td>0.824968</td>\n",
       "      <td>11736.284295</td>\n",
       "      <td>3701.331679</td>\n",
       "      <td>0.584683</td>\n",
       "      <td>0.265814</td>\n",
       "      <td>0.101460</td>\n",
       "      <td>5.168124e-02</td>\n",
       "    </tr>\n",
       "    <tr>\n",
       "      <th>min</th>\n",
       "      <td>6.660209e+17</td>\n",
       "      <td>0.000000</td>\n",
       "      <td>10.0</td>\n",
       "      <td>0.000000</td>\n",
       "      <td>0.000000</td>\n",
       "      <td>0.000000</td>\n",
       "      <td>0.000000</td>\n",
       "      <td>0.000000</td>\n",
       "      <td>80.000000</td>\n",
       "      <td>13.000000</td>\n",
       "      <td>1.000000</td>\n",
       "      <td>0.044333</td>\n",
       "      <td>0.000010</td>\n",
       "      <td>2.160900e-07</td>\n",
       "    </tr>\n",
       "    <tr>\n",
       "      <th>25%</th>\n",
       "      <td>6.768432e+17</td>\n",
       "      <td>10.000000</td>\n",
       "      <td>10.0</td>\n",
       "      <td>0.000000</td>\n",
       "      <td>0.000000</td>\n",
       "      <td>0.000000</td>\n",
       "      <td>0.000000</td>\n",
       "      <td>0.000000</td>\n",
       "      <td>2063.500000</td>\n",
       "      <td>616.500000</td>\n",
       "      <td>1.000000</td>\n",
       "      <td>0.382227</td>\n",
       "      <td>0.054268</td>\n",
       "      <td>1.506560e-02</td>\n",
       "    </tr>\n",
       "    <tr>\n",
       "      <th>50%</th>\n",
       "      <td>7.117438e+17</td>\n",
       "      <td>11.000000</td>\n",
       "      <td>10.0</td>\n",
       "      <td>0.000000</td>\n",
       "      <td>0.000000</td>\n",
       "      <td>0.000000</td>\n",
       "      <td>0.000000</td>\n",
       "      <td>0.000000</td>\n",
       "      <td>4197.000000</td>\n",
       "      <td>1367.000000</td>\n",
       "      <td>1.000000</td>\n",
       "      <td>0.610573</td>\n",
       "      <td>0.121377</td>\n",
       "      <td>4.947150e-02</td>\n",
       "    </tr>\n",
       "    <tr>\n",
       "      <th>75%</th>\n",
       "      <td>7.922223e+17</td>\n",
       "      <td>12.000000</td>\n",
       "      <td>10.0</td>\n",
       "      <td>0.000000</td>\n",
       "      <td>0.000000</td>\n",
       "      <td>0.000000</td>\n",
       "      <td>0.000000</td>\n",
       "      <td>0.000000</td>\n",
       "      <td>11173.500000</td>\n",
       "      <td>3104.000000</td>\n",
       "      <td>1.000000</td>\n",
       "      <td>0.857867</td>\n",
       "      <td>0.197905</td>\n",
       "      <td>9.437495e-02</td>\n",
       "    </tr>\n",
       "    <tr>\n",
       "      <th>max</th>\n",
       "      <td>8.921774e+17</td>\n",
       "      <td>14.000000</td>\n",
       "      <td>10.0</td>\n",
       "      <td>3.000000</td>\n",
       "      <td>4.000000</td>\n",
       "      <td>2.000000</td>\n",
       "      <td>1.000000</td>\n",
       "      <td>4.000000</td>\n",
       "      <td>144041.000000</td>\n",
       "      <td>49489.000000</td>\n",
       "      <td>4.000000</td>\n",
       "      <td>0.999984</td>\n",
       "      <td>0.467678</td>\n",
       "      <td>2.710420e-01</td>\n",
       "    </tr>\n",
       "  </tbody>\n",
       "</table>\n",
       "</div>"
      ],
      "text/plain": [
       "           tweet_id  rating_numerator  rating_denominator        doggo  \\\n",
       "count  1.615000e+03       1615.000000              1615.0  1615.000000   \n",
       "mean   7.385300e+17         10.796904                10.0     0.105882   \n",
       "std    6.796355e+16          1.775746                 0.0     0.553738   \n",
       "min    6.660209e+17          0.000000                10.0     0.000000   \n",
       "25%    6.768432e+17         10.000000                10.0     0.000000   \n",
       "50%    7.117438e+17         11.000000                10.0     0.000000   \n",
       "75%    7.922223e+17         12.000000                10.0     0.000000   \n",
       "max    8.921774e+17         14.000000                10.0     3.000000   \n",
       "\n",
       "           floofer       pupper        puppo    dog_stage  favorite_count  \\\n",
       "count  1615.000000  1615.000000  1615.000000  1615.000000     1615.000000   \n",
       "mean      0.017337     0.206811     0.013622     0.332508     8772.652632   \n",
       "std       0.262854     0.609164     0.115953     0.824968    11736.284295   \n",
       "min       0.000000     0.000000     0.000000     0.000000       80.000000   \n",
       "25%       0.000000     0.000000     0.000000     0.000000     2063.500000   \n",
       "50%       0.000000     0.000000     0.000000     0.000000     4197.000000   \n",
       "75%       0.000000     0.000000     0.000000     0.000000    11173.500000   \n",
       "max       4.000000     2.000000     1.000000     4.000000   144041.000000   \n",
       "\n",
       "       retweet_count      img_num      p1_conf      p2_conf       p3_conf  \n",
       "count    1615.000000  1615.000000  1615.000000  1615.000000  1.615000e+03  \n",
       "mean     2531.517028     1.222910     0.610078     0.136582  6.054469e-02  \n",
       "std      3701.331679     0.584683     0.265814     0.101460  5.168124e-02  \n",
       "min        13.000000     1.000000     0.044333     0.000010  2.160900e-07  \n",
       "25%       616.500000     1.000000     0.382227     0.054268  1.506560e-02  \n",
       "50%      1367.000000     1.000000     0.610573     0.121377  4.947150e-02  \n",
       "75%      3104.000000     1.000000     0.857867     0.197905  9.437495e-02  \n",
       "max     49489.000000     4.000000     0.999984     0.467678  2.710420e-01  "
      ]
     },
     "execution_count": 3,
     "metadata": {},
     "output_type": "execute_result"
    }
   ],
   "source": [
    "tt_final.describe()"
   ]
  },
  {
   "cell_type": "markdown",
   "metadata": {},
   "source": [
    "This table already gives us an insight on the quantitative variables. The rating numerator descriptive stats are already quite informative, but let's investigate further."
   ]
  },
  {
   "cell_type": "markdown",
   "metadata": {},
   "source": [
    "### Bottom 10 ratings including outliers"
   ]
  },
  {
   "cell_type": "code",
   "execution_count": 4,
   "metadata": {},
   "outputs": [
    {
     "data": {
      "image/png": "[encoded data removed]",
      "text/plain": [
       "<matplotlib.figure.Figure at 0x106d55eb8>"
      ]
     },
     "metadata": {},
     "output_type": "display_data"
    }
   ],
   "source": [
    "plt.figure(figsize=(8,8));\n",
    "plt.boxplot(tt_final['rating_numerator'], labels=['rating_numerator']);"
   ]
  },
  {
   "cell_type": "markdown",
   "metadata": {},
   "source": [
    "I wanted to investigate what was so special about the lowest scorer dogs. I will query the specific entries and look up the urls and the tweets."
   ]
  },
  {
   "cell_type": "code",
   "execution_count": 6,
   "metadata": {},
   "outputs": [
    {
     "data": {
      "text/html": [
       "<div>\n",
       "<style scoped>\n",
       "    .dataframe tbody tr th:only-of-type {\n",
       "        vertical-align: middle;\n",
       "    }\n",
       "\n",
       "    .dataframe tbody tr th {\n",
       "        vertical-align: top;\n",
       "    }\n",
       "\n",
       "    .dataframe thead th {\n",
       "        text-align: right;\n",
       "    }\n",
       "</style>\n",
       "<table border=\"1\" class=\"dataframe\">\n",
       "  <thead>\n",
       "    <tr style=\"text-align: right;\">\n",
       "      <th></th>\n",
       "      <th>expanded_urls</th>\n",
       "      <th>rating_numerator</th>\n",
       "      <th>text</th>\n",
       "      <th>all_p</th>\n",
       "    </tr>\n",
       "  </thead>\n",
       "  <tbody>\n",
       "    <tr>\n",
       "      <th>198</th>\n",
       "      <td>https://twitter.com/dog_rates/status/835152434251116546/photo/1,https://twitter.com/dog_rates/status/835152434251116...</td>\n",
       "      <td>0</td>\n",
       "      <td>When you're so blinded by your systematic plagiarism that you forget what day it is. 0/10 https://t.co/YbEJPkg4Ag</td>\n",
       "      <td>American_Staffordshire_terrier</td>\n",
       "    </tr>\n",
       "    <tr>\n",
       "      <th>1179</th>\n",
       "      <td>https://twitter.com/dog_rates/status/678424312106393600/photo/1</td>\n",
       "      <td>2</td>\n",
       "      <td>This is Crystal. She's a shitty fireman. No sense of urgency. People could be dying Crystal. 2/10 just irresponsible...</td>\n",
       "      <td>Maltese_dog</td>\n",
       "    </tr>\n",
       "    <tr>\n",
       "      <th>1530</th>\n",
       "      <td>https://twitter.com/dog_rates/status/667878741721415682/photo/1</td>\n",
       "      <td>2</td>\n",
       "      <td>This is Tedrick. He lives on the edge. Needs someone to hit the gas tho. Other than that he's a baller. 10&amp;amp;2/10 ...</td>\n",
       "      <td>miniature_pinscher</td>\n",
       "    </tr>\n",
       "    <tr>\n",
       "      <th>770</th>\n",
       "      <td>https://twitter.com/dog_rates/status/718246886998687744/photo/1</td>\n",
       "      <td>3</td>\n",
       "      <td>This is Alexanderson. He's got a weird ass birth mark. Dreadful at fetch. Won't eat kibble. 3/10 wtf @Target https:/...</td>\n",
       "      <td>Chihuahua</td>\n",
       "    </tr>\n",
       "    <tr>\n",
       "      <th>1483</th>\n",
       "      <td>https://twitter.com/dog_rates/status/668989615043424256/photo/1</td>\n",
       "      <td>3</td>\n",
       "      <td>This is Bernie. He's taking his Halloween costume very seriously. Wants to be baked. 3/10 not a good idea Bernie smh...</td>\n",
       "      <td>pug</td>\n",
       "    </tr>\n",
       "    <tr>\n",
       "      <th>1307</th>\n",
       "      <td>https://twitter.com/dog_rates/status/673906403526995968/photo/1</td>\n",
       "      <td>3</td>\n",
       "      <td>Guys I'm getting real tired of this. We only rate dogs. Please don't send in other things like this Bulbasaur. 3/10 ...</td>\n",
       "      <td>soft-coated_wheaten_terrier</td>\n",
       "    </tr>\n",
       "    <tr>\n",
       "      <th>475</th>\n",
       "      <td>https://twitter.com/dog_rates/status/777885040357281792/photo/1,https://twitter.com/dog_rates/status/777885040357281...</td>\n",
       "      <td>3</td>\n",
       "      <td>This is Wesley. He's clearly trespassing. Seems rather h*ckin violent too. Weaponized forehead. 3/10 wouldn't let in...</td>\n",
       "      <td>Afghan_hound</td>\n",
       "    </tr>\n",
       "    <tr>\n",
       "      <th>810</th>\n",
       "      <td>https://twitter.com/dog_rates/status/711306686208872448/photo/1,https://twitter.com/dog_rates/status/711306686208872...</td>\n",
       "      <td>3</td>\n",
       "      <td>What hooligan sent in pictures w/out a dog in them? Churlish af. 3/10 just bc that's a neat fluffy bean bag chair ht...</td>\n",
       "      <td>Dandie_Dinmont</td>\n",
       "    </tr>\n",
       "    <tr>\n",
       "      <th>1582</th>\n",
       "      <td>https://twitter.com/dog_rates/status/666649482315059201/photo/1</td>\n",
       "      <td>4</td>\n",
       "      <td>Cool dog. Enjoys couch. Low monotone bark. Very nice kicks. Pisses milk (must be rare). Can't go down stairs. 4/10 h...</td>\n",
       "      <td>Border_collie</td>\n",
       "    </tr>\n",
       "    <tr>\n",
       "      <th>630</th>\n",
       "      <td>https://twitter.com/dog_rates/status/747816857231626240/photo/1</td>\n",
       "      <td>4</td>\n",
       "      <td>Viewer discretion is advised. This is a terrible attack in progress. Not even in water (tragic af). 4/10 bad sherk h...</td>\n",
       "      <td>Pembroke</td>\n",
       "    </tr>\n",
       "  </tbody>\n",
       "</table>\n",
       "</div>"
      ],
      "text/plain": [
       "                                                                                                                expanded_urls  \\\n",
       "198   https://twitter.com/dog_rates/status/835152434251116546/photo/1,https://twitter.com/dog_rates/status/835152434251116...   \n",
       "1179                                                          https://twitter.com/dog_rates/status/678424312106393600/photo/1   \n",
       "1530                                                          https://twitter.com/dog_rates/status/667878741721415682/photo/1   \n",
       "770                                                           https://twitter.com/dog_rates/status/718246886998687744/photo/1   \n",
       "1483                                                          https://twitter.com/dog_rates/status/668989615043424256/photo/1   \n",
       "1307                                                          https://twitter.com/dog_rates/status/673906403526995968/photo/1   \n",
       "475   https://twitter.com/dog_rates/status/777885040357281792/photo/1,https://twitter.com/dog_rates/status/777885040357281...   \n",
       "810   https://twitter.com/dog_rates/status/711306686208872448/photo/1,https://twitter.com/dog_rates/status/711306686208872...   \n",
       "1582                                                          https://twitter.com/dog_rates/status/666649482315059201/photo/1   \n",
       "630                                                           https://twitter.com/dog_rates/status/747816857231626240/photo/1   \n",
       "\n",
       "      rating_numerator  \\\n",
       "198                  0   \n",
       "1179                 2   \n",
       "1530                 2   \n",
       "770                  3   \n",
       "1483                 3   \n",
       "1307                 3   \n",
       "475                  3   \n",
       "810                  3   \n",
       "1582                 4   \n",
       "630                  4   \n",
       "\n",
       "                                                                                                                         text  \\\n",
       "198         When you're so blinded by your systematic plagiarism that you forget what day it is. 0/10 https://t.co/YbEJPkg4Ag   \n",
       "1179  This is Crystal. She's a shitty fireman. No sense of urgency. People could be dying Crystal. 2/10 just irresponsible...   \n",
       "1530  This is Tedrick. He lives on the edge. Needs someone to hit the gas tho. Other than that he's a baller. 10&amp;2/10 ...   \n",
       "770   This is Alexanderson. He's got a weird ass birth mark. Dreadful at fetch. Won't eat kibble. 3/10 wtf @Target https:/...   \n",
       "1483  This is Bernie. He's taking his Halloween costume very seriously. Wants to be baked. 3/10 not a good idea Bernie smh...   \n",
       "1307  Guys I'm getting real tired of this. We only rate dogs. Please don't send in other things like this Bulbasaur. 3/10 ...   \n",
       "475   This is Wesley. He's clearly trespassing. Seems rather h*ckin violent too. Weaponized forehead. 3/10 wouldn't let in...   \n",
       "810   What hooligan sent in pictures w/out a dog in them? Churlish af. 3/10 just bc that's a neat fluffy bean bag chair ht...   \n",
       "1582  Cool dog. Enjoys couch. Low monotone bark. Very nice kicks. Pisses milk (must be rare). Can't go down stairs. 4/10 h...   \n",
       "630   Viewer discretion is advised. This is a terrible attack in progress. Not even in water (tragic af). 4/10 bad sherk h...   \n",
       "\n",
       "                               all_p  \n",
       "198   American_Staffordshire_terrier  \n",
       "1179                     Maltese_dog  \n",
       "1530              miniature_pinscher  \n",
       "770                        Chihuahua  \n",
       "1483                             pug  \n",
       "1307     soft-coated_wheaten_terrier  \n",
       "475                     Afghan_hound  \n",
       "810                   Dandie_Dinmont  \n",
       "1582                   Border_collie  \n",
       "630                         Pembroke  "
      ]
     },
     "execution_count": 6,
     "metadata": {},
     "output_type": "execute_result"
    }
   ],
   "source": [
    "top10 = tt_final.sort_values(['rating_numerator'], ascending=True,).head(10)\n",
    "pd.options.display.max_colwidth = 120\n",
    "top10[['expanded_urls', 'rating_numerator', 'text', 'all_p']]"
   ]
  },
  {
   "cell_type": "markdown",
   "metadata": {},
   "source": [
    "So, after exploring the text and the images of those ratings, I noticed that many cases it was other animals being rated. Hence, the predictive algorithm made mistakes (e.g. it considered a cow a border collie). Some other cases, it was dogs in weird set ups."
   ]
  },
  {
   "cell_type": "markdown",
   "metadata": {},
   "source": [
    "### Top 10 most frequently predicted breeds\n",
    "I will now list the top 10 most frequent breeds **according to p1:**"
   ]
  },
  {
   "cell_type": "code",
   "execution_count": 7,
   "metadata": {},
   "outputs": [
    {
     "data": {
      "text/plain": [
       "golden_retriever      132\n",
       "Labrador_retriever     88\n",
       "Pembroke               87\n",
       "Chihuahua              76\n",
       "pug                    54\n",
       "chow                   41\n",
       "toy_poodle             38\n",
       "Pomeranian             37\n",
       "Samoyed                37\n",
       "malamute               29\n",
       "Name: p1, dtype: int64"
      ]
     },
     "execution_count": 7,
     "metadata": {},
     "output_type": "execute_result"
    }
   ],
   "source": [
    "tt_final[(tt_final.p1_dog == True)]['p1'].value_counts().head(10)"
   ]
  },
  {
   "cell_type": "markdown",
   "metadata": {},
   "source": [
    "I should keep in mind that some of the entries in this column are not even dog breeds at all. A quick check using the .unique() function allows us to see that the predictive algorithm sometimes recognized other random objects or animals. Therefore this result is inherenthly biased. This is why I wanted to calculate the 'all_p' field. Below the top 10 most frequent breeds according to **all_p**:"
   ]
  },
  {
   "cell_type": "code",
   "execution_count": 8,
   "metadata": {},
   "outputs": [
    {
     "data": {
      "text/plain": [
       "golden_retriever      150\n",
       "Labrador_retriever    101\n",
       "Pembroke               94\n",
       "Chihuahua              86\n",
       "pug                    62\n",
       "toy_poodle             51\n",
       "chow                   47\n",
       "Pomeranian             41\n",
       "Samoyed                38\n",
       "malamute               32\n",
       "Name: all_p, dtype: int64"
      ]
     },
     "execution_count": 8,
     "metadata": {},
     "output_type": "execute_result"
    }
   ],
   "source": [
    "tt_final.all_p.value_counts().head(10)"
   ]
  },
  {
   "cell_type": "markdown",
   "metadata": {},
   "source": [
    "### Top 10 most 'liked' breeds on average"
   ]
  },
  {
   "cell_type": "code",
   "execution_count": 9,
   "metadata": {},
   "outputs": [
    {
     "data": {
      "text/plain": [
       "all_p\n",
       "Saluki                     23748.000000\n",
       "French_bulldog             19723.741935\n",
       "Afghan_hound               17042.000000\n",
       "black-and-tan_coonhound    16739.000000\n",
       "flat-coated_retriever      16545.250000\n",
       "Irish_water_spaniel        16121.333333\n",
       "Bedlington_terrier         15000.250000\n",
       "Leonberg                   14671.000000\n",
       "whippet                    14097.777778\n",
       "standard_poodle            13703.818182\n",
       "Name: favorite_count, dtype: float64"
      ]
     },
     "execution_count": 9,
     "metadata": {},
     "output_type": "execute_result"
    }
   ],
   "source": [
    "tt_final.groupby(['all_p'])['favorite_count'].mean().sort_values(ascending=False).head(10)\n",
    "# this is a kind of sql \"group by.. order by .. desc limit 10\""
   ]
  },
  {
   "cell_type": "markdown",
   "metadata": {},
   "source": [
    "The Saluki breed seems to distantiate all the other breeds by a lot. However, we should keep in mind that this aggregation, does not tell us how many entries we have in the dataset per single breed."
   ]
  },
  {
   "cell_type": "markdown",
   "metadata": {},
   "source": [
    "### Looking for a correlation between Favorite count and retweet count"
   ]
  },
  {
   "cell_type": "code",
   "execution_count": 10,
   "metadata": {},
   "outputs": [
    {
     "data": {
      "image/png": "[encoded data removed]",
      "text/plain": [
       "<matplotlib.figure.Figure at 0x114e5e320>"
      ]
     },
     "metadata": {},
     "output_type": "display_data"
    }
   ],
   "source": [
    "plt.figure(figsize=(8,8));\n",
    "plt.plot(tt_final['favorite_count'], tt_final['retweet_count'], 'ro', alpha = 0.08)\n",
    "plt.xlabel('Favorite Count (LIKES)')\n",
    "plt.ylabel('Retweet Count')\n",
    "plt.title('Retweets v. Likes');\n"
   ]
  },
  {
   "cell_type": "markdown",
   "metadata": {},
   "source": [
    "We see a very strong correlation between the two variables. The more a tweet is liked, the more is retweeted. However, we should not infer causation, in other words, we do not know if Likes directly drive Retweets."
   ]
  }
 ],
 "metadata": {
  "kernelspec": {
   "display_name": "Python 3",
   "language": "python",
   "name": "python3"
  },
  "language_info": {
   "codemirror_mode": {
    "name": "ipython",
    "version": 3
   },
   "file_extension": ".py",
   "mimetype": "text/x-python",
   "name": "python",
   "nbconvert_exporter": "python",
   "pygments_lexer": "ipython3",
   "version": "3.6.3"
  }
 },
 "nbformat": 4,
 "nbformat_minor": 2
}
